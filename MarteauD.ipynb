{
  "nbformat": 4,
  "nbformat_minor": 0,
  "metadata": {
    "colab": {
      "provenance": [],
      "authorship_tag": "ABX9TyNEk4h48pJsVpfw9xqvGWK9",
      "include_colab_link": true
    },
    "kernelspec": {
      "name": "python3",
      "display_name": "Python 3"
    },
    "language_info": {
      "name": "python"
    }
  },
  "cells": [
    {
      "cell_type": "markdown",
      "metadata": {
        "id": "view-in-github",
        "colab_type": "text"
      },
      "source": [
        "<a href=\"https://colab.research.google.com/github/fef40/bsm_greeks/blob/main/MarteauD.ipynb\" target=\"_parent\"><img src=\"https://colab.research.google.com/assets/colab-badge.svg\" alt=\"Open In Colab\"/></a>"
      ]
    },
    {
      "cell_type": "code",
      "execution_count": null,
      "metadata": {
        "id": "XajD6b4QQ6mI"
      },
      "outputs": [],
      "source": [
        "import math\n",
        "from scipy.stats import norm\n",
        "\n",
        "#Paramètres de marché\n",
        "\n",
        "spot=float(input(\"Spot du sous-jacent ?\"))\n",
        "sigma=float(input(\"Sigma du sous-jacent ?\"))\n",
        "r=float(input(\"Quel est le taux sans risque ?\"))\n",
        "\n",
        "#Ask for the option trading strategy\n",
        "\n",
        "calls=[]\n",
        "\n",
        "nombre_de_calls=int(input(\"Nombre de calls?\"))\n",
        "if nombre_de_calls>0:\n",
        "  for i in range(nombre_de_calls):\n",
        "    K=float(input(f'Strike du call {i+1} ?'))\n",
        "    T=float(input(f'Matu du call {i+1} ?'))\n",
        "    quantite=float(input(f'Quantité d options {i+1} ?'))\n",
        "    position=input('Position (long/short)?').strip().lower()\n",
        "    calls.append({\"strike\":K,\"matu\":T,\"position\":position,\"quantite\":quantite,\"type\":\"call\"})\n",
        "else:\n",
        "      print(\"Pas de calls\")\n",
        "print(\"Calls:\",calls)\n",
        "\n",
        "\n",
        "puts=[]\n",
        "\n",
        "nombre_de_puts=int(input(\"Nombre de puts?\"))\n",
        "if nombre_de_puts>0:\n",
        "  for i in range(nombre_de_puts):\n",
        "    K=float(input(f'Strike du put {i+1} ?'))\n",
        "    T=float(input(f'Matu du put {i+1} ?'))\n",
        "    quantite=float(input(f'Quantité d options {i+1} ?'))\n",
        "    position=input('Position (long/short)?').strip().lower()\n",
        "    puts.append({\"strike\":K,\"matu\":T,\"position\":position,\"quantite\":quantite,\"type\":\"put\"})\n",
        "else:\n",
        "      print(\"Pas de put\")\n",
        "print(\"Puts:\",puts)\n",
        "\n",
        "position_delta_1=float(input(\"Quelle est la position delta one en absolu ?\"))\n",
        "if position_delta_1>0:\n",
        "  position_delta1=input('Position (long/short)?').strip().lower()\n",
        "  print(\"On est\",position_delta1,position_delta_1,\"en delta one\")\n",
        "else:\n",
        "  print(\"Pas de position delta One\")\n",
        "\n",
        "#Calcul des grecques\n",
        "\n",
        "def calcul_des_grecques(leg,spot,r,sigma):\n",
        "  K=leg[\"strike\"]\n",
        "  T=leg[\"matu\"]\n",
        "  q=leg[\"quantite\"]\n",
        "  position=leg[\"position\"]\n",
        "  type_doption=leg[\"type\"]\n",
        "  sign=+1 if position==\"long\" else -1\n",
        "  d1=(math.log(spot/K)+(r+0.5*sigma**2)*T)/(sigma*math.sqrt(T))\n",
        "  d2=d1-sigma*math.sqrt(T)\n",
        "  if type_doption==\"call\":\n",
        "      delta=norm.cdf(d1)*sign*q\n",
        "  else:\n",
        "      delta=(norm.cdf(d1)-1)*sign*q\n",
        "  return delta\n",
        "\n",
        "delta_total_calls=0\n",
        "\n",
        "for leg in calls:\n",
        "    delta_call = calcul_des_grecques(leg, spot, r, sigma)\n",
        "    delta_total_calls+= delta_call\n",
        "print(\"le delta cumulé des calls est de\",delta_total_calls)\n",
        "\n",
        "delta_total_puts=0\n",
        "\n",
        "for leg in puts:\n",
        "    delta_put = calcul_des_grecques(leg, spot, r, sigma)\n",
        "    delta_total_puts+= delta_put\n",
        "print(\"le delta cumulé des puts est de\",delta_total_puts)\n",
        "\n",
        "contribution_delta_one=0\n",
        "\n",
        "if position_delta_1==0 :\n",
        "  contribution_delta_one = 0\n",
        "else:\n",
        "    deltaone=(position_delta_1/spot)\n",
        "    if position_delta1==\"long\":\n",
        "        sign_delta_one= +1\n",
        "    else:\n",
        "        sign_delta_one = -1\n",
        "    contribution_delta_one= deltaone*sign_delta_one\n",
        "\n",
        "delta_total = delta_total_calls + delta_total_puts + contribution_delta_one\n",
        "print(\"le delta de la stratégie est de\",delta_total)\n",
        "\n"
      ]
    },
    {
      "cell_type": "code",
      "source": [],
      "metadata": {
        "id": "RvJ6_EH91oYu"
      },
      "execution_count": null,
      "outputs": []
    }
  ]
}
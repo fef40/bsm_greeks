{
  "nbformat": 4,
  "nbformat_minor": 0,
  "metadata": {
    "colab": {
      "provenance": [],
      "authorship_tag": "ABX9TyP2uZhJhmlI/YMYz9B4oT9u",
      "include_colab_link": true
    },
    "kernelspec": {
      "name": "python3",
      "display_name": "Python 3"
    },
    "language_info": {
      "name": "python"
    }
  },
  "cells": [
    {
      "cell_type": "markdown",
      "metadata": {
        "id": "view-in-github",
        "colab_type": "text"
      },
      "source": [
        "<a href=\"https://colab.research.google.com/github/fef40/bsm_greeks/blob/main/Entrainement.ipynb\" target=\"_parent\"><img src=\"https://colab.research.google.com/assets/colab-badge.svg\" alt=\"Open In Colab\"/></a>"
      ]
    },
    {
      "cell_type": "code",
      "execution_count": 23,
      "metadata": {
        "colab": {
          "base_uri": "https://localhost:8080/"
        },
        "id": "Q5ohM3lMpYyd",
        "outputId": "50592eb3-da63-40d2-a025-6d0ca848ca80"
      },
      "outputs": [
        {
          "output_type": "stream",
          "name": "stdout",
          "text": [
            "Quel est le sigma ?2\n",
            "MENU\n",
            "1)Âge de Félix\n",
            "2)Taille de Félix\n",
            "3)Devenir Empereur\n",
            "Que veux tu savoir jeune padawan ? Ecris un chiffre. Si tu veux retourner à la BU de la catho, tape 00\n",
            "Adieu jeune padawan\n",
            "3\n",
            "4\n",
            "['call', 'put', 'forward', 'warrant']\n"
          ]
        }
      ],
      "source": [
        "while True:\n",
        "  sigma=float(input(\"Quel est le sigma ?\"))\n",
        "  if sigma>0 and sigma<3 :\n",
        "    break\n",
        "  else :\n",
        "    print (\"Le sigma doit être compris entre 0 et 3\")\n",
        "\n",
        "while True:\n",
        "  print(\"MENU\")\n",
        "  print(\"1)Âge de Félix\")\n",
        "  print(\"2)Taille de Félix\")\n",
        "  print(\"3)Devenir Empereur\")\n",
        "  choix = int(input(\"Que veux tu savoir jeune padawan ? Ecris un chiffre. Si tu veux retourner à la BU de la catho, tape 0\"))\n",
        "  if choix==0:\n",
        "    print(\"Adieu jeune padawan\")\n",
        "    break\n",
        "  elif choix==1:\n",
        "      print(\"21 ans et toutes ses dents\")\n",
        "  elif choix==2:\n",
        "      print(\"185 cm\")\n",
        "  elif choix==3:\n",
        "      print(\"Tu nous as redonné l'espérance\")\n",
        "  else:\n",
        "      print(\"Ce que tu dis n'as aucun sens, on retourne au MENU\")\n",
        "\n",
        "\n",
        "portefeuille=[\"call\",\"put\",\"forward\"]\n",
        "print(len(portefeuille))\n",
        "portefeuille.append(\"warrant\")\n",
        "print(len(portefeuille))\n",
        "print(portefeuille)\n"
      ]
    },
    {
      "cell_type": "code",
      "source": [
        "portefeuille=[]\n",
        "while True :\n",
        "  portefeuille=input(\"Quels sont les éléments de ce portefeuille?\")\n",
        "  if len(portefeuille)==0:\n",
        "    print(\"le portefeuille est vide, mais au moins il est parfaitement hedgé!\")\n",
        "    break\n",
        "  elif len(portefeuille)>1 and len(portefeuille)<=3:\n",
        "    print(\"le portefeuille est simple\")\n",
        "    break\n",
        "  elif len(portefeuille)>3:\n",
        "    print(\"le portefeuille est complexe\")\n",
        "    break\n",
        "  else:\n",
        "    print(\"ce que tu dis n'a aucun sens\")"
      ],
      "metadata": {
        "colab": {
          "base_uri": "https://localhost:8080/"
        },
        "id": "yq6Xyj1asLqK",
        "outputId": "b57fe1c6-b988-46c0-c688-ea52cb893e9b"
      },
      "execution_count": 31,
      "outputs": [
        {
          "output_type": "stream",
          "name": "stdout",
          "text": [
            "Quels sont les éléments de ce portefeuille?0\n",
            "ce que tu dis n'a aucun sens\n",
            "Quels sont les éléments de ce portefeuille?len\n",
            "le portefeuille est simple\n"
          ]
        }
      ]
    },
    {
      "cell_type": "code",
      "source": [
        "option = {}\n",
        "option[\"type\"]=input(\"C'est un call ou un put?\")\n",
        "option[\"strike\"]=input(\"Strike?\")\n",
        "option[\"vol\"]=input(\"Sigma ?\")\n",
        "option[\"émetteur\"]=input(\"Exane ou Goldman ?\")\n",
        "print(option)"
      ],
      "metadata": {
        "colab": {
          "base_uri": "https://localhost:8080/"
        },
        "id": "VXJhzAKYwAlB",
        "outputId": "a0bf8923-dc9d-4cc0-b3de-c5faa4ebecbb"
      },
      "execution_count": 28,
      "outputs": [
        {
          "output_type": "stream",
          "name": "stdout",
          "text": [
            "C'est un call ou un put?call\n",
            "Strike?50\n",
            "Sigma ?0.2\n",
            "Exane ou Goldman ?Goldman\n",
            "{'type': 'call', 'strike': '50', 'vol': '0.2', 'émtteur': 'Goldman'}\n"
          ]
        }
      ]
    },
    {
      "cell_type": "code",
      "source": [
        "portefeuille=[]\n",
        "while True:\n",
        "  option = {}\n",
        "  option[\"type\"]=str(input(\"call ou put ?\"))\n",
        "  portefeuille.append(option)\n",
        "  choix=int(input(\"1 si tu veux en rajouter, 2 si c'est tout\"))\n",
        "  if choix==2:\n",
        "    break\n",
        "  elif choix==1:\n",
        "    print(\"On continue\")\n",
        "  else:\n",
        "    print(\"ce que tu dis n'a aucun sens\")\n",
        "\n",
        "print(portefeuille)"
      ],
      "metadata": {
        "colab": {
          "base_uri": "https://localhost:8080/"
        },
        "id": "v_xBDbpjwEeo",
        "outputId": "3faff302-8d5a-4b90-f4ff-aea7700f98c4"
      },
      "execution_count": 47,
      "outputs": [
        {
          "output_type": "stream",
          "name": "stdout",
          "text": [
            "call ou put ?call\n",
            "1 si tu veux en rajouter, 2 si c'est tout1\n",
            "On continue\n",
            "call ou put ?call\n",
            "1 si tu veux en rajouter, 2 si c'est tout2\n",
            "[{'type': 'call'}, {'type': 'call'}]\n"
          ]
        }
      ]
    }
  ]
}
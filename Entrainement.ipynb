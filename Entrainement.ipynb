{
  "nbformat": 4,
  "nbformat_minor": 0,
  "metadata": {
    "colab": {
      "provenance": [],
      "authorship_tag": "ABX9TyOMmeELc1xpsFuJlwl5UwPm",
      "include_colab_link": true
    },
    "kernelspec": {
      "name": "python3",
      "display_name": "Python 3"
    },
    "language_info": {
      "name": "python"
    }
  },
  "cells": [
    {
      "cell_type": "markdown",
      "metadata": {
        "id": "view-in-github",
        "colab_type": "text"
      },
      "source": [
        "<a href=\"https://colab.research.google.com/github/fef40/bsm_greeks/blob/main/Entrainement.ipynb\" target=\"_parent\"><img src=\"https://colab.research.google.com/assets/colab-badge.svg\" alt=\"Open In Colab\"/></a>"
      ]
    },
    {
      "cell_type": "code",
      "execution_count": 23,
      "metadata": {
        "colab": {
          "base_uri": "https://localhost:8080/"
        },
        "id": "Q5ohM3lMpYyd",
        "outputId": "50592eb3-da63-40d2-a025-6d0ca848ca80"
      },
      "outputs": [
        {
          "output_type": "stream",
          "name": "stdout",
          "text": [
            "Quel est le sigma ?2\n",
            "MENU\n",
            "1)Âge de Félix\n",
            "2)Taille de Félix\n",
            "3)Devenir Empereur\n",
            "Que veux tu savoir jeune padawan ? Ecris un chiffre. Si tu veux retourner à la BU de la catho, tape 00\n",
            "Adieu jeune padawan\n",
            "3\n",
            "4\n",
            "['call', 'put', 'forward', 'warrant']\n"
          ]
        }
      ],
      "source": [
        "while True:\n",
        "  sigma=float(input(\"Quel est le sigma ?\"))\n",
        "  if sigma>0 and sigma<3 :\n",
        "    break\n",
        "  else :\n",
        "    print (\"Le sigma doit être compris entre 0 et 3\")\n",
        "\n",
        "while True:\n",
        "  print(\"MENU\")\n",
        "  print(\"1)Âge de Félix\")\n",
        "  print(\"2)Taille de Félix\")\n",
        "  print(\"3)Devenir Empereur\")\n",
        "  choix = int(input(\"Que veux tu savoir jeune padawan ? Ecris un chiffre. Si tu veux retourner à la BU de la catho, tape 0\"))\n",
        "  if choix==0:\n",
        "    print(\"Adieu jeune padawan\")\n",
        "    break\n",
        "  elif choix==1:\n",
        "      print(\"21 ans et toutes ses dents\")\n",
        "  elif choix==2:\n",
        "      print(\"185 cm\")\n",
        "  elif choix==3:\n",
        "      print(\"Tu nous as redonné l'espérance\")\n",
        "  else:\n",
        "      print(\"Ce que tu dis n'as aucun sens, on retourne au MENU\")\n",
        "\n",
        "\n",
        "portefeuille=[\"call\",\"put\",\"forward\"]\n",
        "print(len(portefeuille))\n",
        "portefeuille.append(\"warrant\")\n",
        "print(len(portefeuille))\n",
        "print(portefeuille)\n"
      ]
    },
    {
      "cell_type": "code",
      "source": [
        "portefeuille=[]\n",
        "while True :\n",
        "  portefeuille=input(\"Quels sont les éléments de ce portefeuille?\")\n",
        "  if len(portefeuille)==0:\n",
        "    print(\"le portefeuille est vide, mais au moins il est parfaitement hedgé!\")\n",
        "    break\n",
        "  elif len(portefeuille)>1 and len(portefeuille)<=3:\n",
        "    print(\"le portefeuille est simple\")\n",
        "    break\n",
        "  elif len(portefeuille)>3:\n",
        "    print(\"le portefeuille est complexe\")\n",
        "    break\n",
        "  else:\n",
        "    print(\"ce que tu dis n'a aucun sens\")"
      ],
      "metadata": {
        "colab": {
          "base_uri": "https://localhost:8080/"
        },
        "id": "yq6Xyj1asLqK",
        "outputId": "b57fe1c6-b988-46c0-c688-ea52cb893e9b"
      },
      "execution_count": 31,
      "outputs": [
        {
          "output_type": "stream",
          "name": "stdout",
          "text": [
            "Quels sont les éléments de ce portefeuille?0\n",
            "ce que tu dis n'a aucun sens\n",
            "Quels sont les éléments de ce portefeuille?len\n",
            "le portefeuille est simple\n"
          ]
        }
      ]
    },
    {
      "cell_type": "code",
      "source": [
        "option = {}\n",
        "option[\"type\"]=input(\"C'est un call ou un put?\")\n",
        "option[\"strike\"]=input(\"Strike?\")\n",
        "option[\"vol\"]=input(\"Sigma ?\")\n",
        "option[\"émetteur\"]=input(\"Exane ou Goldman ?\")\n",
        "print(option)"
      ],
      "metadata": {
        "colab": {
          "base_uri": "https://localhost:8080/"
        },
        "id": "VXJhzAKYwAlB",
        "outputId": "a0bf8923-dc9d-4cc0-b3de-c5faa4ebecbb"
      },
      "execution_count": 28,
      "outputs": [
        {
          "output_type": "stream",
          "name": "stdout",
          "text": [
            "C'est un call ou un put?call\n",
            "Strike?50\n",
            "Sigma ?0.2\n",
            "Exane ou Goldman ?Goldman\n",
            "{'type': 'call', 'strike': '50', 'vol': '0.2', 'émtteur': 'Goldman'}\n"
          ]
        }
      ]
    },
    {
      "cell_type": "code",
      "source": [
        "portefeuille=[]\n",
        "while True:\n",
        "  option = {}\n",
        "  option[\"type\"]=str(input(\"call ou put ?\"))\n",
        "  portefeuille.append(option)\n",
        "  choix=int(input(\"1 si tu veux en rajouter, 2 si c'est tout\"))\n",
        "  if choix==2:\n",
        "    break\n",
        "  elif choix==1:\n",
        "    print(\"On continue\")\n",
        "  else:\n",
        "    print(\"ce que tu dis n'a aucun sens\")\n",
        "\n",
        "print(portefeuille)"
      ],
      "metadata": {
        "colab": {
          "base_uri": "https://localhost:8080/"
        },
        "id": "v_xBDbpjwEeo",
        "outputId": "3faff302-8d5a-4b90-f4ff-aea7700f98c4"
      },
      "execution_count": 47,
      "outputs": [
        {
          "output_type": "stream",
          "name": "stdout",
          "text": [
            "call ou put ?call\n",
            "1 si tu veux en rajouter, 2 si c'est tout1\n",
            "On continue\n",
            "call ou put ?call\n",
            "1 si tu veux en rajouter, 2 si c'est tout2\n",
            "[{'type': 'call'}, {'type': 'call'}]\n"
          ]
        }
      ]
    },
    {
      "cell_type": "code",
      "source": [
        "import pandas as pd\n",
        "\n",
        "portefeuille={\n",
        "    \"ticker\": [\"Total\",\"Tesla\"],\n",
        "    \"volume\":[50,100],\n",
        "    \"spot price\":[253,1152]\n",
        "}\n",
        "\n",
        "df=pd.DataFrame(portefeuille)\n",
        "df[\"valeur de marché\"]=df[\"volume\"]*df[\"spot price\"]\n",
        "\n",
        "print(df)"
      ],
      "metadata": {
        "colab": {
          "base_uri": "https://localhost:8080/"
        },
        "id": "QLLhZGBp0bOk",
        "outputId": "90a65df5-1a9f-4866-9251-58c2474049df"
      },
      "execution_count": 61,
      "outputs": [
        {
          "output_type": "stream",
          "name": "stdout",
          "text": [
            "  ticker  volume  spot price  valeur de marché\n",
            "0  Total      50         253             12650\n",
            "1  Tesla     100        1152            115200\n"
          ]
        }
      ]
    },
    {
      "cell_type": "code",
      "source": [
        "import pandas as pd\n",
        "\n",
        "portefeuille=[]\n",
        "while True :\n",
        "  action={}\n",
        "  action[\"ticker\"]=input(\"Nom de l'action ?\")\n",
        "  action[\"volume\"]=float(input(\"Nombre d'actions détenues?\"))\n",
        "  action[\"price\"]=float(input(\"prix spot?\"))\n",
        "  portefeuille.append(action)\n",
        "  choix=int(input(\"Souhaitez vous rajouter des données ? Si oui tapez 1, sinon, tapez 0\"))\n",
        "  if choix==0:\n",
        "    break\n",
        "  if choix==1:\n",
        "    print(\"On continue\")\n",
        "  else:\n",
        "    print(\"ce que tu dis n'a aucun sens\")\n",
        "\n",
        "df=pd.DataFrame(portefeuille)\n",
        "df[\"valeur de marché\"]=df[\"volume\"]*df[\"price\"]\n",
        "\n",
        "print(df)\n",
        "\n",
        "styled=(\n",
        "    df.style\n",
        "    .set_table_styles([\n",
        "        {\"selector\": \"th\", \"props\": [(\"background-color\", \"#2E86C1\"), (\"color\", \"white\")]}\n",
        "        ])\n",
        "    .highlight_max(color=\"lightgreen\")\n",
        ")\n",
        "display(styled)"
      ],
      "metadata": {
        "colab": {
          "base_uri": "https://localhost:8080/",
          "height": 320
        },
        "id": "3d3pf2E_22cN",
        "outputId": "48186e48-4ee7-4f16-e425-d34bec617f0e"
      },
      "execution_count": 74,
      "outputs": [
        {
          "output_type": "stream",
          "name": "stdout",
          "text": [
            "Nom de l'action ?lvmh\n",
            "Nombre d'actions détenues?100\n",
            "prix spot?100\n",
            "Souhaitez vous rajouter des données ? Si oui tapez 1, sinon, tapez 01\n",
            "On continue\n",
            "Nom de l'action ?oliv et flo\n",
            "Nombre d'actions détenues?150\n",
            "prix spot?1520\n",
            "Souhaitez vous rajouter des données ? Si oui tapez 1, sinon, tapez 00\n",
            "        ticker  volume   price  valeur de marché\n",
            "0         lvmh   100.0   100.0           10000.0\n",
            "1  oliv et flo   150.0  1520.0          228000.0\n"
          ]
        },
        {
          "output_type": "display_data",
          "data": {
            "text/plain": [
              "<pandas.io.formats.style.Styler at 0x7ecd1c833e30>"
            ],
            "text/html": [
              "<style type=\"text/css\">\n",
              "#T_f8ed8 th {\n",
              "  background-color: #2E86C1;\n",
              "  color: white;\n",
              "}\n",
              "#T_f8ed8_row1_col0, #T_f8ed8_row1_col1, #T_f8ed8_row1_col2, #T_f8ed8_row1_col3 {\n",
              "  background-color: lightgreen;\n",
              "}\n",
              "</style>\n",
              "<table id=\"T_f8ed8\" class=\"dataframe\">\n",
              "  <thead>\n",
              "    <tr>\n",
              "      <th class=\"blank level0\" >&nbsp;</th>\n",
              "      <th id=\"T_f8ed8_level0_col0\" class=\"col_heading level0 col0\" >ticker</th>\n",
              "      <th id=\"T_f8ed8_level0_col1\" class=\"col_heading level0 col1\" >volume</th>\n",
              "      <th id=\"T_f8ed8_level0_col2\" class=\"col_heading level0 col2\" >price</th>\n",
              "      <th id=\"T_f8ed8_level0_col3\" class=\"col_heading level0 col3\" >valeur de marché</th>\n",
              "    </tr>\n",
              "  </thead>\n",
              "  <tbody>\n",
              "    <tr>\n",
              "      <th id=\"T_f8ed8_level0_row0\" class=\"row_heading level0 row0\" >0</th>\n",
              "      <td id=\"T_f8ed8_row0_col0\" class=\"data row0 col0\" >lvmh</td>\n",
              "      <td id=\"T_f8ed8_row0_col1\" class=\"data row0 col1\" >100.000000</td>\n",
              "      <td id=\"T_f8ed8_row0_col2\" class=\"data row0 col2\" >100.000000</td>\n",
              "      <td id=\"T_f8ed8_row0_col3\" class=\"data row0 col3\" >10000.000000</td>\n",
              "    </tr>\n",
              "    <tr>\n",
              "      <th id=\"T_f8ed8_level0_row1\" class=\"row_heading level0 row1\" >1</th>\n",
              "      <td id=\"T_f8ed8_row1_col0\" class=\"data row1 col0\" >oliv et flo</td>\n",
              "      <td id=\"T_f8ed8_row1_col1\" class=\"data row1 col1\" >150.000000</td>\n",
              "      <td id=\"T_f8ed8_row1_col2\" class=\"data row1 col2\" >1520.000000</td>\n",
              "      <td id=\"T_f8ed8_row1_col3\" class=\"data row1 col3\" >228000.000000</td>\n",
              "    </tr>\n",
              "  </tbody>\n",
              "</table>\n"
            ]
          },
          "metadata": {}
        }
      ]
    }
  ]
}
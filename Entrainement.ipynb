{
  "nbformat": 4,
  "nbformat_minor": 0,
  "metadata": {
    "colab": {
      "provenance": [],
      "authorship_tag": "ABX9TyPWlqDGzrf+NHew+tYYY6+K",
      "include_colab_link": true
    },
    "kernelspec": {
      "name": "python3",
      "display_name": "Python 3"
    },
    "language_info": {
      "name": "python"
    }
  },
  "cells": [
    {
      "cell_type": "markdown",
      "metadata": {
        "id": "view-in-github",
        "colab_type": "text"
      },
      "source": [
        "<a href=\"https://colab.research.google.com/github/fef40/bsm_greeks/blob/main/Entrainement.ipynb\" target=\"_parent\"><img src=\"https://colab.research.google.com/assets/colab-badge.svg\" alt=\"Open In Colab\"/></a>"
      ]
    },
    {
      "cell_type": "code",
      "execution_count": null,
      "metadata": {
        "colab": {
          "base_uri": "https://localhost:8080/"
        },
        "id": "Q5ohM3lMpYyd",
        "outputId": "a31617ed-9f5f-40b4-9b52-7487b3d78aa9"
      },
      "outputs": [
        {
          "output_type": "stream",
          "name": "stdout",
          "text": [
            "Quel est le sigma ?2\n",
            "MENU\n",
            "1)Âge de Félix\n",
            "2)Taille de Félix\n",
            "3)Devenir Empereur\n",
            "Que veux tu savoir jeune padawan ? Ecris un chiffre. Si tu veux retourner à la BU de la catho, tape 03\n",
            "Tu nous as redonné l'espérance\n",
            "MENU\n",
            "1)Âge de Félix\n",
            "2)Taille de Félix\n",
            "3)Devenir Empereur\n",
            "Que veux tu savoir jeune padawan ? Ecris un chiffre. Si tu veux retourner à la BU de la catho, tape 00\n",
            "Adieu jeune padawan\n",
            "3\n",
            "4\n",
            "['call', 'put', 'forward', 'warrant']\n"
          ]
        }
      ],
      "source": [
        "while True:\n",
        "  sigma=float(input(\"Quel est le sigma ?\"))\n",
        "  if sigma>0 and sigma<3 :\n",
        "    break\n",
        "  else :\n",
        "    print (\"Le sigma doit être compris entre 0 et 3\")\n",
        "\n",
        "while True:\n",
        "  print(\"MENU\")\n",
        "  print(\"1)Âge de Félix\")\n",
        "  print(\"2)Taille de Félix\")\n",
        "  print(\"3)Devenir Empereur\")\n",
        "  choix = int(input(\"Que veux tu savoir jeune padawan ? Ecris un chiffre. Si tu veux retourner à la BU de la catho, tape 0\"))\n",
        "  if choix==0:\n",
        "    print(\"Adieu jeune padawan\")\n",
        "    break\n",
        "  elif choix==1:\n",
        "      print(\"21 ans et toutes ses dents\")\n",
        "  elif choix==2:\n",
        "      print(\"185 cm\")\n",
        "  elif choix==3:\n",
        "      print(\"Tu nous as redonné l'espérance\")\n",
        "  else:\n",
        "      print(\"Ce que tu dis n'as aucun sens, on retourne au MENU\")\n",
        "\n",
        "\n",
        "portefeuille=[\"call\",\"put\",\"forward\"]\n",
        "print(len(portefeuille))\n",
        "portefeuille.append(\"warrant\")\n",
        "print(len(portefeuille))\n",
        "print(portefeuille)\n"
      ]
    },
    {
      "cell_type": "code",
      "source": [
        "portefeuille=[]\n",
        "while True :\n",
        "  portefeuille=input(\"Quels sont les éléments de ce portefeuille?\")\n",
        "  if len(portefeuille)==0:\n",
        "    print(\"le portefeuille est vide, mais au moins il est parfaitement hedgé!\")\n",
        "    break\n",
        "  elif len(portefeuille)>1 and len(portefeuille)<=3:\n",
        "    print(\"le portefeuille est simple\")\n",
        "    break\n",
        "  elif len(portefeuille)>3:\n",
        "    print(\"le portefeuille est complexe\")\n",
        "    break\n",
        "  else:\n",
        "    print(\"ce que tu dis n'a aucun sens\")"
      ],
      "metadata": {
        "colab": {
          "base_uri": "https://localhost:8080/"
        },
        "id": "yq6Xyj1asLqK",
        "outputId": "40e30ad6-e7e5-4bec-bb4d-26178f28f4f6"
      },
      "execution_count": null,
      "outputs": [
        {
          "output_type": "stream",
          "name": "stdout",
          "text": [
            "Quels sont les éléments de ce portefeuille?call\n",
            "le portefeuille est complexe\n"
          ]
        }
      ]
    },
    {
      "cell_type": "code",
      "source": [
        "option = {}\n",
        "option[\"type\"]=input(\"C'est un call ou un put?\")\n",
        "option[\"strike\"]=input(\"Strike?\")\n",
        "option[\"vol\"]=input(\"Sigma ?\")\n",
        "option[\"émetteur\"]=input(\"Exane ou Goldman ?\")\n",
        "print(option)"
      ],
      "metadata": {
        "colab": {
          "base_uri": "https://localhost:8080/"
        },
        "id": "VXJhzAKYwAlB",
        "outputId": "a0bf8923-dc9d-4cc0-b3de-c5faa4ebecbb"
      },
      "execution_count": null,
      "outputs": [
        {
          "output_type": "stream",
          "name": "stdout",
          "text": [
            "C'est un call ou un put?call\n",
            "Strike?50\n",
            "Sigma ?0.2\n",
            "Exane ou Goldman ?Goldman\n",
            "{'type': 'call', 'strike': '50', 'vol': '0.2', 'émtteur': 'Goldman'}\n"
          ]
        }
      ]
    },
    {
      "cell_type": "code",
      "source": [
        "portefeuille=[]\n",
        "while True:\n",
        "  option = {}\n",
        "  option[\"type\"]=str(input(\"call ou put ?\"))\n",
        "  portefeuille.append(option)\n",
        "  choix=int(input(\"1 si tu veux en rajouter, 2 si c'est tout\"))\n",
        "  if choix==2:\n",
        "    break\n",
        "  elif choix==1:\n",
        "    print(\"On continue\")\n",
        "  else:\n",
        "    print(\"ce que tu dis n'a aucun sens\")\n",
        "\n",
        "print(portefeuille)"
      ],
      "metadata": {
        "colab": {
          "base_uri": "https://localhost:8080/"
        },
        "id": "v_xBDbpjwEeo",
        "outputId": "3faff302-8d5a-4b90-f4ff-aea7700f98c4"
      },
      "execution_count": null,
      "outputs": [
        {
          "output_type": "stream",
          "name": "stdout",
          "text": [
            "call ou put ?call\n",
            "1 si tu veux en rajouter, 2 si c'est tout1\n",
            "On continue\n",
            "call ou put ?call\n",
            "1 si tu veux en rajouter, 2 si c'est tout2\n",
            "[{'type': 'call'}, {'type': 'call'}]\n"
          ]
        }
      ]
    },
    {
      "cell_type": "code",
      "source": [
        "import pandas as pd\n",
        "\n",
        "portefeuille={\n",
        "    \"ticker\": [\"Total\",\"Tesla\"],\n",
        "    \"volume\":[50,100],\n",
        "    \"spot price\":[253,1152]\n",
        "}\n",
        "\n",
        "df=pd.DataFrame(portefeuille)\n",
        "df[\"valeur de marché\"]=df[\"volume\"]*df[\"spot price\"]\n",
        "\n",
        "print(df)"
      ],
      "metadata": {
        "colab": {
          "base_uri": "https://localhost:8080/"
        },
        "id": "QLLhZGBp0bOk",
        "outputId": "90a65df5-1a9f-4866-9251-58c2474049df"
      },
      "execution_count": null,
      "outputs": [
        {
          "output_type": "stream",
          "name": "stdout",
          "text": [
            "  ticker  volume  spot price  valeur de marché\n",
            "0  Total      50         253             12650\n",
            "1  Tesla     100        1152            115200\n"
          ]
        }
      ]
    },
    {
      "cell_type": "code",
      "source": [
        "import pandas as pd\n",
        "\n",
        "portefeuille=[]\n",
        "while True :\n",
        "  action={}\n",
        "  action[\"ticker\"]=input(\"Nom de l'action ?\")\n",
        "  action[\"volume\"]=float(input(\"Nombre d'actions détenues?\"))\n",
        "  action[\"price\"]=float(input(\"prix spot?\"))\n",
        "  portefeuille.append(action)\n",
        "  choix=int(input(\"Souhaitez vous rajouter des données ? Si oui tapez 1, sinon, tapez 0\"))\n",
        "  if choix==0:\n",
        "    break\n",
        "  if choix==1:\n",
        "    print(\"On continue\")\n",
        "  else:\n",
        "    print(\"ce que tu dis n'a aucun sens\")\n",
        "\n",
        "df=pd.DataFrame(portefeuille)\n",
        "df[\"valeur de marché\"]=df[\"volume\"]*df[\"price\"]\n",
        "\n",
        "print(df)\n",
        "\n",
        "styled=(\n",
        "    df.style\n",
        "    .set_table_styles([\n",
        "        {\"selector\": \"th\", \"props\": [(\"background-color\", \"#2E86C1\"), (\"color\", \"white\")]}\n",
        "        ])\n",
        "    .highlight_max(color=\"lightgreen\")\n",
        ")\n",
        "display(styled)"
      ],
      "metadata": {
        "colab": {
          "base_uri": "https://localhost:8080/",
          "height": 320
        },
        "id": "3d3pf2E_22cN",
        "outputId": "ab460828-686b-48f4-8c55-d5d2f5d2dd6a"
      },
      "execution_count": null,
      "outputs": [
        {
          "output_type": "stream",
          "name": "stdout",
          "text": [
            "Nom de l'action ?florence couraud\n",
            "Nombre d'actions détenues?50\n",
            "prix spot?100\n",
            "Souhaitez vous rajouter des données ? Si oui tapez 1, sinon, tapez 01\n",
            "On continue\n",
            "Nom de l'action ?la catho lille\n",
            "Nombre d'actions détenues?25\n",
            "prix spot?150\n",
            "Souhaitez vous rajouter des données ? Si oui tapez 1, sinon, tapez 00\n",
            "             ticker  volume  price  valeur de marché\n",
            "0  florence couraud    50.0  100.0            5000.0\n",
            "1    la catho lille    25.0  150.0            3750.0\n"
          ]
        },
        {
          "output_type": "display_data",
          "data": {
            "text/plain": [
              "<pandas.io.formats.style.Styler at 0x7ce9ba61e9c0>"
            ],
            "text/html": [
              "<style type=\"text/css\">\n",
              "#T_0ab2d th {\n",
              "  background-color: #2E86C1;\n",
              "  color: white;\n",
              "}\n",
              "#T_0ab2d_row0_col1, #T_0ab2d_row0_col3, #T_0ab2d_row1_col0, #T_0ab2d_row1_col2 {\n",
              "  background-color: lightgreen;\n",
              "}\n",
              "</style>\n",
              "<table id=\"T_0ab2d\" class=\"dataframe\">\n",
              "  <thead>\n",
              "    <tr>\n",
              "      <th class=\"blank level0\" >&nbsp;</th>\n",
              "      <th id=\"T_0ab2d_level0_col0\" class=\"col_heading level0 col0\" >ticker</th>\n",
              "      <th id=\"T_0ab2d_level0_col1\" class=\"col_heading level0 col1\" >volume</th>\n",
              "      <th id=\"T_0ab2d_level0_col2\" class=\"col_heading level0 col2\" >price</th>\n",
              "      <th id=\"T_0ab2d_level0_col3\" class=\"col_heading level0 col3\" >valeur de marché</th>\n",
              "    </tr>\n",
              "  </thead>\n",
              "  <tbody>\n",
              "    <tr>\n",
              "      <th id=\"T_0ab2d_level0_row0\" class=\"row_heading level0 row0\" >0</th>\n",
              "      <td id=\"T_0ab2d_row0_col0\" class=\"data row0 col0\" >florence couraud</td>\n",
              "      <td id=\"T_0ab2d_row0_col1\" class=\"data row0 col1\" >50.000000</td>\n",
              "      <td id=\"T_0ab2d_row0_col2\" class=\"data row0 col2\" >100.000000</td>\n",
              "      <td id=\"T_0ab2d_row0_col3\" class=\"data row0 col3\" >5000.000000</td>\n",
              "    </tr>\n",
              "    <tr>\n",
              "      <th id=\"T_0ab2d_level0_row1\" class=\"row_heading level0 row1\" >1</th>\n",
              "      <td id=\"T_0ab2d_row1_col0\" class=\"data row1 col0\" >la catho lille</td>\n",
              "      <td id=\"T_0ab2d_row1_col1\" class=\"data row1 col1\" >25.000000</td>\n",
              "      <td id=\"T_0ab2d_row1_col2\" class=\"data row1 col2\" >150.000000</td>\n",
              "      <td id=\"T_0ab2d_row1_col3\" class=\"data row1 col3\" >3750.000000</td>\n",
              "    </tr>\n",
              "  </tbody>\n",
              "</table>\n"
            ]
          },
          "metadata": {}
        }
      ]
    },
    {
      "cell_type": "code",
      "source": [
        "import random\n",
        "import time\n",
        "\n",
        "prix=100\n",
        "historique=[prix]\n",
        "\n",
        "vol=float(input(\"Quelle est la vol?\"))*100\n",
        "\n",
        "for i in range(5):\n",
        "  variation=random.uniform(-vol,vol)\n",
        "  prix+=variation\n",
        "  historique.append(round(prix,2))\n",
        "  print(\"Prix actuel\",round(prix,2))\n",
        "  time.sleep(0.1)\n",
        "\n",
        "for p in historique:\n",
        "  print(int(p/5)*\"█\")"
      ],
      "metadata": {
        "colab": {
          "base_uri": "https://localhost:8080/"
        },
        "id": "ZbuW100bCVos",
        "outputId": "dbd20a57-f1d0-4ef1-cbd5-1ed57b077906"
      },
      "execution_count": null,
      "outputs": [
        {
          "output_type": "stream",
          "name": "stdout",
          "text": [
            "Quelle est la vol?0.2\n",
            "Prix actuel 94.52\n",
            "Prix actuel 85.03\n",
            "Prix actuel 84.24\n",
            "Prix actuel 81.58\n",
            "Prix actuel 85.38\n",
            "████████████████████\n",
            "██████████████████\n",
            "█████████████████\n",
            "████████████████\n",
            "████████████████\n",
            "█████████████████\n"
          ]
        }
      ]
    },
    {
      "cell_type": "code",
      "source": [
        "import pandas as pd\n",
        "actions=[]\n",
        "BNP={}\n",
        "BNP[\"Ticker\"]=\"BNParibas\"\n",
        "BNP[\"Prix\"]=50.3\n",
        "BNP[\"Cotation\"]=\"CAC40\"\n",
        "print(BNP)\n",
        "actions.append(BNP)\n",
        "Total={}\n",
        "Total[\"Ticker\"]=\"TTE\"\n",
        "Total[\"Prix\"]=80.6\n",
        "Total[\"Cotation\"]=\"CAC40\"\n",
        "print(Total)\n",
        "actions.append(Total)\n",
        "\n",
        "df=pd.DataFrame(actions)\n",
        "print(df)\n",
        "styled=(\n",
        "    df.style.background_gradient(cmap=\"Blues\")\n",
        "    .highlight_max(color=\"darkblue\")\n",
        "    .highlight_min(color=\"blue\")\n",
        "    .set_table_styles([\n",
        "    {\"selector\": \"th\", \"props\": [(\"background-color\", \"#2E86C1\"), (\"color\", \"white\"),('font-family','New Times Roman')]}\n",
        "])\n",
        "    .set_properties(**{'font-family': 'New Times Roman', 'font-size': '12pt'})\n",
        ")\n",
        "styled"
      ],
      "metadata": {
        "colab": {
          "base_uri": "https://localhost:8080/",
          "height": 208
        },
        "id": "Z9PPGAUMf17t",
        "outputId": "f4a842c0-f91b-46bb-a876-7e57b8332c86"
      },
      "execution_count": null,
      "outputs": [
        {
          "output_type": "stream",
          "name": "stdout",
          "text": [
            "{'Ticker': 'BNParibas', 'Prix': 50.3, 'Cotation': 'CAC40'}\n",
            "{'Ticker': 'TTE', 'Prix': 80.6, 'Cotation': 'CAC40'}\n",
            "      Ticker  Prix Cotation\n",
            "0  BNParibas  50.3    CAC40\n",
            "1        TTE  80.6    CAC40\n"
          ]
        },
        {
          "output_type": "execute_result",
          "data": {
            "text/plain": [
              "<pandas.io.formats.style.Styler at 0x7ce9b946f710>"
            ],
            "text/html": [
              "<style type=\"text/css\">\n",
              "#T_5514e th {\n",
              "  background-color: #2E86C1;\n",
              "  color: white;\n",
              "  font-family: New Times Roman;\n",
              "}\n",
              "#T_5514e_row0_col0 {\n",
              "  background-color: blue;\n",
              "  font-family: New Times Roman;\n",
              "  font-size: 12pt;\n",
              "}\n",
              "#T_5514e_row0_col1 {\n",
              "  background-color: #f7fbff;\n",
              "  color: #000000;\n",
              "  background-color: blue;\n",
              "  font-family: New Times Roman;\n",
              "  font-size: 12pt;\n",
              "}\n",
              "#T_5514e_row0_col2, #T_5514e_row1_col2 {\n",
              "  background-color: darkblue;\n",
              "  background-color: blue;\n",
              "  font-family: New Times Roman;\n",
              "  font-size: 12pt;\n",
              "}\n",
              "#T_5514e_row1_col0 {\n",
              "  background-color: darkblue;\n",
              "  font-family: New Times Roman;\n",
              "  font-size: 12pt;\n",
              "}\n",
              "#T_5514e_row1_col1 {\n",
              "  background-color: #08306b;\n",
              "  color: #f1f1f1;\n",
              "  background-color: darkblue;\n",
              "  font-family: New Times Roman;\n",
              "  font-size: 12pt;\n",
              "}\n",
              "</style>\n",
              "<table id=\"T_5514e\" class=\"dataframe\">\n",
              "  <thead>\n",
              "    <tr>\n",
              "      <th class=\"blank level0\" >&nbsp;</th>\n",
              "      <th id=\"T_5514e_level0_col0\" class=\"col_heading level0 col0\" >Ticker</th>\n",
              "      <th id=\"T_5514e_level0_col1\" class=\"col_heading level0 col1\" >Prix</th>\n",
              "      <th id=\"T_5514e_level0_col2\" class=\"col_heading level0 col2\" >Cotation</th>\n",
              "    </tr>\n",
              "  </thead>\n",
              "  <tbody>\n",
              "    <tr>\n",
              "      <th id=\"T_5514e_level0_row0\" class=\"row_heading level0 row0\" >0</th>\n",
              "      <td id=\"T_5514e_row0_col0\" class=\"data row0 col0\" >BNParibas</td>\n",
              "      <td id=\"T_5514e_row0_col1\" class=\"data row0 col1\" >50.300000</td>\n",
              "      <td id=\"T_5514e_row0_col2\" class=\"data row0 col2\" >CAC40</td>\n",
              "    </tr>\n",
              "    <tr>\n",
              "      <th id=\"T_5514e_level0_row1\" class=\"row_heading level0 row1\" >1</th>\n",
              "      <td id=\"T_5514e_row1_col0\" class=\"data row1 col0\" >TTE</td>\n",
              "      <td id=\"T_5514e_row1_col1\" class=\"data row1 col1\" >80.600000</td>\n",
              "      <td id=\"T_5514e_row1_col2\" class=\"data row1 col2\" >CAC40</td>\n",
              "    </tr>\n",
              "  </tbody>\n",
              "</table>\n"
            ]
          },
          "metadata": {},
          "execution_count": 6
        }
      ]
    },
    {
      "cell_type": "markdown",
      "source": [
        "JEU DE FOU:"
      ],
      "metadata": {
        "id": "TL41Gw8vf2mY"
      }
    },
    {
      "cell_type": "code",
      "source": [
        "import random\n",
        "import matplotlib.pyplot as plt\n",
        "\n",
        "prix=100\n",
        "argent=1000\n",
        "actions=0\n",
        "\n",
        "net_worth=[]\n",
        "net_worth.append(argent + prix*actions)\n",
        "\n",
        "def journee_de_trading (prix,argent,actions,i):\n",
        "  print(f\"Tour n°{i+1},Prix:{prix}\")\n",
        "  print(f\"Cash:{argent},Actions:{actions}\")\n",
        "  choix=input(\"Acheter ? (a), Vendre ? (v), Conserver ? (c)\").strip().lower()\n",
        "  if choix==\"a\" and argent>=prix:\n",
        "        actions+=1\n",
        "        argent-=prix\n",
        "        patrimoine=argent+prix*actions\n",
        "        net_worth.append(patrimoine)\n",
        "        print(\"You bought one share you rocky trader ! HODL\")\n",
        "        print(\"=\"*30)\n",
        "  elif choix==\"v\" and actions>0:\n",
        "        actions-=1\n",
        "        argent+=prix\n",
        "        patrimoine=argent+prix*actions\n",
        "        net_worth.append(patrimoine)\n",
        "        print(\"You sold one share you bearish wimp...\")\n",
        "        print(\"=\"*30)\n",
        "  elif choix==\"c\":\n",
        "        patrimoine=argent+prix*actions\n",
        "        net_worth.append(patrimoine)\n",
        "        print(\"You did nothing, passive investor\")\n",
        "        print(\"=\"*30)\n",
        "  else:\n",
        "        print(\"tu veux trader et tu n'arrives pas à rentrer la bonne lettre ?\")\n",
        "  return argent, actions\n",
        "\n",
        "\n",
        "for i in range(10):\n",
        "  x=random.gauss(0,1)\n",
        "  if x>1.65:\n",
        "    print(f\"Tour {i+1} ENORME CRASH !\")\n",
        "    prix-=30\n",
        "    argent,actions=journee_de_trading(prix,argent,actions,i)\n",
        "\n",
        "  elif x<-1.65:\n",
        "    print(f\"Tour {i+1} Christine Lagarde poste dans r/wallstreetbets :ENORME RUSH BOURSIER !\")\n",
        "    prix+=30\n",
        "    argent,actions=journee_de_trading(prix,argent,actions,i)\n",
        "\n",
        "  else:\n",
        "      variation= random.uniform(-10,10)\n",
        "      prix+=variation\n",
        "      prix=round(prix,2)\n",
        "      argent,actions=journee_de_trading(prix,argent,actions,i)\n",
        "\n",
        "net_worth_finale=argent+actions*prix\n",
        "PNL=net_worth_finale-1000\n",
        "print(\"Ton PNL est de \",PNL)\n",
        "if PNL>0:\n",
        "  print(\"Pierre, Pierre Chartier, X2007, Head of Trading Vol et Hybrides\")\n",
        "else:\n",
        "    print(\"why aye youu gay?\")\n",
        "\n",
        "print(\"You are now worth\",net_worth_finale)\n",
        "print(net_worth)\n",
        "\n",
        "jours=list(range(1, len(net_worth)+1))\n",
        "\n",
        "plt.plot(jours,net_worth)\n",
        "plt.title(\"Variation de ton patrimoine\")\n",
        "plt.xlabel(\"jour\")\n",
        "plt.ylabel(\"book value\")\n",
        "plt.show()"
      ],
      "metadata": {
        "colab": {
          "base_uri": "https://localhost:8080/",
          "height": 391
        },
        "id": "DPRhei9-F3Yn",
        "outputId": "adede1f6-451e-4182-d9a6-8c6f6757ca0a"
      },
      "execution_count": 22,
      "outputs": [
        {
          "output_type": "stream",
          "name": "stdout",
          "text": [
            "Tour n°1,Prix:92.57\n",
            "Cash:1000,Actions:0\n"
          ]
        },
        {
          "output_type": "error",
          "ename": "KeyboardInterrupt",
          "evalue": "Interrupted by user",
          "traceback": [
            "\u001b[0;31m---------------------------------------------------------------------------\u001b[0m",
            "\u001b[0;31mKeyboardInterrupt\u001b[0m                         Traceback (most recent call last)",
            "\u001b[0;32m/tmp/ipython-input-3192887797.py\u001b[0m in \u001b[0;36m<cell line: 0>\u001b[0;34m()\u001b[0m\n\u001b[1;32m     53\u001b[0m       \u001b[0mprix\u001b[0m\u001b[0;34m+=\u001b[0m\u001b[0mvariation\u001b[0m\u001b[0;34m\u001b[0m\u001b[0;34m\u001b[0m\u001b[0m\n\u001b[1;32m     54\u001b[0m       \u001b[0mprix\u001b[0m\u001b[0;34m=\u001b[0m\u001b[0mround\u001b[0m\u001b[0;34m(\u001b[0m\u001b[0mprix\u001b[0m\u001b[0;34m,\u001b[0m\u001b[0;36m2\u001b[0m\u001b[0;34m)\u001b[0m\u001b[0;34m\u001b[0m\u001b[0;34m\u001b[0m\u001b[0m\n\u001b[0;32m---> 55\u001b[0;31m       \u001b[0margent\u001b[0m\u001b[0;34m,\u001b[0m\u001b[0mactions\u001b[0m\u001b[0;34m=\u001b[0m\u001b[0mjournee_de_trading\u001b[0m\u001b[0;34m(\u001b[0m\u001b[0mprix\u001b[0m\u001b[0;34m,\u001b[0m\u001b[0margent\u001b[0m\u001b[0;34m,\u001b[0m\u001b[0mactions\u001b[0m\u001b[0;34m,\u001b[0m\u001b[0mi\u001b[0m\u001b[0;34m)\u001b[0m\u001b[0;34m\u001b[0m\u001b[0;34m\u001b[0m\u001b[0m\n\u001b[0m\u001b[1;32m     56\u001b[0m \u001b[0;34m\u001b[0m\u001b[0m\n\u001b[1;32m     57\u001b[0m \u001b[0mnet_worth_finale\u001b[0m\u001b[0;34m=\u001b[0m\u001b[0margent\u001b[0m\u001b[0;34m+\u001b[0m\u001b[0mactions\u001b[0m\u001b[0;34m*\u001b[0m\u001b[0mprix\u001b[0m\u001b[0;34m\u001b[0m\u001b[0;34m\u001b[0m\u001b[0m\n",
            "\u001b[0;32m/tmp/ipython-input-3192887797.py\u001b[0m in \u001b[0;36mjournee_de_trading\u001b[0;34m(prix, argent, actions, i)\u001b[0m\n\u001b[1;32m     12\u001b[0m   \u001b[0mprint\u001b[0m\u001b[0;34m(\u001b[0m\u001b[0;34mf\"Tour n°{i+1},Prix:{prix}\"\u001b[0m\u001b[0;34m)\u001b[0m\u001b[0;34m\u001b[0m\u001b[0;34m\u001b[0m\u001b[0m\n\u001b[1;32m     13\u001b[0m   \u001b[0mprint\u001b[0m\u001b[0;34m(\u001b[0m\u001b[0;34mf\"Cash:{argent},Actions:{actions}\"\u001b[0m\u001b[0;34m)\u001b[0m\u001b[0;34m\u001b[0m\u001b[0;34m\u001b[0m\u001b[0m\n\u001b[0;32m---> 14\u001b[0;31m   \u001b[0mchoix\u001b[0m\u001b[0;34m=\u001b[0m\u001b[0minput\u001b[0m\u001b[0;34m(\u001b[0m\u001b[0;34m\"Acheter ? (a), Vendre ? (v), Conserver ? (c)\"\u001b[0m\u001b[0;34m)\u001b[0m\u001b[0;34m.\u001b[0m\u001b[0mstrip\u001b[0m\u001b[0;34m(\u001b[0m\u001b[0;34m)\u001b[0m\u001b[0;34m.\u001b[0m\u001b[0mlower\u001b[0m\u001b[0;34m(\u001b[0m\u001b[0;34m)\u001b[0m\u001b[0;34m\u001b[0m\u001b[0;34m\u001b[0m\u001b[0m\n\u001b[0m\u001b[1;32m     15\u001b[0m   \u001b[0;32mif\u001b[0m \u001b[0mchoix\u001b[0m\u001b[0;34m==\u001b[0m\u001b[0;34m\"a\"\u001b[0m \u001b[0;32mand\u001b[0m \u001b[0margent\u001b[0m\u001b[0;34m>=\u001b[0m\u001b[0mprix\u001b[0m\u001b[0;34m:\u001b[0m\u001b[0;34m\u001b[0m\u001b[0;34m\u001b[0m\u001b[0m\n\u001b[1;32m     16\u001b[0m         \u001b[0mactions\u001b[0m\u001b[0;34m+=\u001b[0m\u001b[0;36m1\u001b[0m\u001b[0;34m\u001b[0m\u001b[0;34m\u001b[0m\u001b[0m\n",
            "\u001b[0;32m/usr/local/lib/python3.12/dist-packages/ipykernel/kernelbase.py\u001b[0m in \u001b[0;36mraw_input\u001b[0;34m(self, prompt)\u001b[0m\n\u001b[1;32m   1175\u001b[0m                 \u001b[0;34m\"raw_input was called, but this frontend does not support input requests.\"\u001b[0m\u001b[0;34m\u001b[0m\u001b[0;34m\u001b[0m\u001b[0m\n\u001b[1;32m   1176\u001b[0m             )\n\u001b[0;32m-> 1177\u001b[0;31m         return self._input_request(\n\u001b[0m\u001b[1;32m   1178\u001b[0m             \u001b[0mstr\u001b[0m\u001b[0;34m(\u001b[0m\u001b[0mprompt\u001b[0m\u001b[0;34m)\u001b[0m\u001b[0;34m,\u001b[0m\u001b[0;34m\u001b[0m\u001b[0;34m\u001b[0m\u001b[0m\n\u001b[1;32m   1179\u001b[0m             \u001b[0mself\u001b[0m\u001b[0;34m.\u001b[0m\u001b[0m_parent_ident\u001b[0m\u001b[0;34m[\u001b[0m\u001b[0;34m\"shell\"\u001b[0m\u001b[0;34m]\u001b[0m\u001b[0;34m,\u001b[0m\u001b[0;34m\u001b[0m\u001b[0;34m\u001b[0m\u001b[0m\n",
            "\u001b[0;32m/usr/local/lib/python3.12/dist-packages/ipykernel/kernelbase.py\u001b[0m in \u001b[0;36m_input_request\u001b[0;34m(self, prompt, ident, parent, password)\u001b[0m\n\u001b[1;32m   1217\u001b[0m             \u001b[0;32mexcept\u001b[0m \u001b[0mKeyboardInterrupt\u001b[0m\u001b[0;34m:\u001b[0m\u001b[0;34m\u001b[0m\u001b[0;34m\u001b[0m\u001b[0m\n\u001b[1;32m   1218\u001b[0m                 \u001b[0;31m# re-raise KeyboardInterrupt, to truncate traceback\u001b[0m\u001b[0;34m\u001b[0m\u001b[0;34m\u001b[0m\u001b[0m\n\u001b[0;32m-> 1219\u001b[0;31m                 \u001b[0;32mraise\u001b[0m \u001b[0mKeyboardInterrupt\u001b[0m\u001b[0;34m(\u001b[0m\u001b[0;34m\"Interrupted by user\"\u001b[0m\u001b[0;34m)\u001b[0m \u001b[0;32mfrom\u001b[0m \u001b[0;32mNone\u001b[0m\u001b[0;34m\u001b[0m\u001b[0;34m\u001b[0m\u001b[0m\n\u001b[0m\u001b[1;32m   1220\u001b[0m             \u001b[0;32mexcept\u001b[0m \u001b[0mException\u001b[0m\u001b[0;34m:\u001b[0m\u001b[0;34m\u001b[0m\u001b[0;34m\u001b[0m\u001b[0m\n\u001b[1;32m   1221\u001b[0m                 \u001b[0mself\u001b[0m\u001b[0;34m.\u001b[0m\u001b[0mlog\u001b[0m\u001b[0;34m.\u001b[0m\u001b[0mwarning\u001b[0m\u001b[0;34m(\u001b[0m\u001b[0;34m\"Invalid Message:\"\u001b[0m\u001b[0;34m,\u001b[0m \u001b[0mexc_info\u001b[0m\u001b[0;34m=\u001b[0m\u001b[0;32mTrue\u001b[0m\u001b[0;34m)\u001b[0m\u001b[0;34m\u001b[0m\u001b[0;34m\u001b[0m\u001b[0m\n",
            "\u001b[0;31mKeyboardInterrupt\u001b[0m: Interrupted by user"
          ]
        }
      ]
    },
    {
      "cell_type": "code",
      "source": [
        "import yfinance as yf\n",
        "import matplotlib.pyplot as plt\n",
        "\n",
        "df=yf.download([\"BNP.PA\",\"TTE.PA\"],start=\"2024-01-01\",end=\"2024-12-31\")\n",
        "#print(df.head())\n",
        "df[\"Rendements_BNP\"]=df[\"Close\",\"BNP.PA\"].pct_change()\n",
        "df[\"Rendements_TTE\"]=df[\"Close\",\"TTE.PA\"].pct_change()\n",
        "print(df.tail())\n",
        "print(\"=\"*30)\n",
        "print(df.describe())\n",
        "print(\"=\"*30)\n",
        "plt.plot(df.index,df[\"Close\"][\"BNP.PA\"], label=\"BNP\")\n",
        "plt.plot(df.index,df[\"Close\"][\"TTE.PA\"], label=\"Total\")\n",
        "plt.title(\"BNP vs Total\")\n",
        "plt.legend()\n",
        "plt.show()"
      ],
      "metadata": {
        "id": "GpRt5gwJyVyI",
        "colab": {
          "base_uri": "https://localhost:8080/",
          "height": 1000
        },
        "outputId": "c1450730-054a-46c3-9c9c-b4f4e0460bcb"
      },
      "execution_count": 29,
      "outputs": [
        {
          "output_type": "stream",
          "name": "stderr",
          "text": [
            "/tmp/ipython-input-647207203.py:4: FutureWarning: YF.download() has changed argument auto_adjust default to True\n",
            "  df=yf.download([\"BNP.PA\",\"TTE.PA\"],start=\"2024-01-01\",end=\"2024-12-31\")\n",
            "[*********************100%***********************]  2 of 2 completed"
          ]
        },
        {
          "output_type": "stream",
          "name": "stdout",
          "text": [
            "Price           Close                  High                   Low             \\\n",
            "Ticker         BNP.PA     TTE.PA     BNP.PA     TTE.PA     BNP.PA     TTE.PA   \n",
            "Date                                                                           \n",
            "2024-12-20  54.011940  49.656170  54.124699  49.675309  53.185034  48.957596   \n",
            "2024-12-23  53.974354  49.617893  54.058924  49.790145  53.570298  49.378656   \n",
            "2024-12-24  54.068321  49.771000  54.415996  50.077227  54.068321  49.694446   \n",
            "2024-12-27  55.007988  50.479149  55.130142  50.479149  54.406603  49.837994   \n",
            "2024-12-30  55.186523  50.335606  55.750325  50.507857  54.895226  50.029382   \n",
            "\n",
            "Price            Open              Volume           Rendements_BNP  \\\n",
            "Ticker         BNP.PA     TTE.PA   BNP.PA    TTE.PA                  \n",
            "Date                                                                 \n",
            "2024-12-20  53.899181  49.225541  4839471  10645228      -0.005708   \n",
            "2024-12-23  54.049529  49.684879  1395481   2821732      -0.000696   \n",
            "2024-12-24  54.331426  49.761432   479686   1155606       0.001741   \n",
            "2024-12-27  54.406603  49.866701  2338135   3494132       0.017379   \n",
            "2024-12-30  54.942212  50.058093  1667203   3167621       0.003246   \n",
            "\n",
            "Price      Rendements_TTE  \n",
            "Ticker                     \n",
            "Date                       \n",
            "2024-12-20      -0.000770  \n",
            "2024-12-23      -0.000771  \n",
            "2024-12-24       0.003086  \n",
            "2024-12-27       0.014228  \n",
            "2024-12-30      -0.002844  \n",
            "==============================\n",
            "Price        Close                    High                     Low  \\\n",
            "Ticker      BNP.PA      TTE.PA      BNP.PA      TTE.PA      BNP.PA   \n",
            "count   255.000000  255.000000  255.000000  255.000000  255.000000   \n",
            "mean     56.837803   57.659492   57.364569   58.153635   56.309983   \n",
            "std       3.890745    3.456985    3.870667    3.469167    3.839222   \n",
            "min      47.047073   49.455208   47.760180   49.675309   46.730142   \n",
            "25%      54.721390   55.152378   55.252300   55.599685   54.226510   \n",
            "50%      57.385338   57.846375   57.826982   58.364420   56.821540   \n",
            "75%      59.410316   59.704151   59.945926   60.170807   58.884105   \n",
            "max      64.216698   64.826111   64.517399   65.413910   63.812650   \n",
            "\n",
            "Price                     Open                    Volume                \\\n",
            "Ticker      TTE.PA      BNP.PA      TTE.PA        BNP.PA        TTE.PA   \n",
            "count   255.000000  255.000000  255.000000  2.550000e+02  2.550000e+02   \n",
            "mean     57.241972   56.839586   57.680591  2.690310e+06  3.668204e+06   \n",
            "std       3.416426    3.883116    3.459053  1.337717e+06  1.607402e+06   \n",
            "min      48.613090   47.099899   48.900175  4.796860e+05  1.155606e+06   \n",
            "25%      54.848030   54.754735   55.221281  1.750722e+06  2.748576e+06   \n",
            "50%      57.525110   57.281977   57.912516  2.449417e+06  3.394759e+06   \n",
            "75%      59.364434   59.358636   59.772425  3.191914e+06  4.077476e+06   \n",
            "max      64.266292   64.367049   65.012721  9.865002e+06  1.459561e+07   \n",
            "\n",
            "Price  Rendements_BNP Rendements_TTE  \n",
            "Ticker                                \n",
            "count      254.000000     254.000000  \n",
            "mean         0.000067      -0.000429  \n",
            "std          0.014693       0.012059  \n",
            "min         -0.092086      -0.048008  \n",
            "25%         -0.006588      -0.006891  \n",
            "50%          0.001001       0.000234  \n",
            "75%          0.009127       0.006522  \n",
            "max          0.035948       0.039231  \n",
            "==============================\n"
          ]
        },
        {
          "output_type": "stream",
          "name": "stderr",
          "text": [
            "\n"
          ]
        },
        {
          "output_type": "display_data",
          "data": {
            "text/plain": [
              "<Figure size 640x480 with 1 Axes>"
            ],
            "image/png": "[encoded data removed]"
          },
          "metadata": {}
        }
      ]
    },
    {
      "cell_type": "markdown",
      "source": [
        "ROULETTE"
      ],
      "metadata": {
        "id": "j2H6fi0P9EpC"
      }
    },
    {
      "cell_type": "code",
      "source": [
        "import random as rd\n",
        "import sys\n",
        "import time\n",
        "\n",
        "def spin():\n",
        "  x=rd.randint(0,36)\n",
        "  return x\n",
        "\n",
        "argent=100\n",
        "print(\"Vous commencez avec\",argent,\"euros que vous avez pris dans les économies de votre belle famillle prévues pour payer les études de vos enfants.\")\n",
        "print(\"Heureusement, ils sont stupides, donc ces fonds ne sont plus nécéssaires. En route vers le casino de pontaillac !\")\n",
        "\n",
        "for i in range(5):\n",
        "  print(\"=\"*(i+5))\n",
        "  time.sleep(0.5)\n",
        "\n",
        "time.sleep(0.5)\n",
        "print(\"La croupière vous adresse un grand sourire et vous invite à vous installer tandis que le barman shake votre pina colada\")\n",
        "\n",
        "for i in range(1,31,2):\n",
        "  print(\" \" * (30 - i) + \"=\" * i)\n",
        "  time.sleep(0.05)\n",
        "\n",
        "while True:\n",
        "  x=spin()\n",
        "  rouge={1,3,5,7,9,12,14,16,18,19,21,23,25,27,30,32,34,36}\n",
        "  noir={2,4,6,8,10,11,13,15,17,20,22,24,26,28,29,31,33,35}\n",
        "  mise=int(input(\"Combien voulez vous jouer ?\"))\n",
        "  if mise==0:\n",
        "    print(\"should I Call you mista ? you are gay\")\n",
        "  elif mise>argent:\n",
        "    print(\"Vous ne pouvez pas jouer plus que ce que vous avez. Jouer comporte des risques.\")\n",
        "  else:\n",
        "    while True:\n",
        "      choix=int(input(\"Que voulez vous jouer ? Si rouge tapez 100, si noir 1000, sinon, tapez le chiffre que vous voulez jouer\"))\n",
        "      print(x)\n",
        "      if choix==100 and x in rouge:\n",
        "        argent= argent+mise\n",
        "        print(\"Vous doublez votre mise !\")\n",
        "        print(\"Il vous reste la modique somme de\",argent)\n",
        "        print(\"=\"*30)\n",
        "        break\n",
        "      elif choix==1000 and x in noir:\n",
        "        argent= argent+mise\n",
        "        print(\"Vous doublez votre mise !\")\n",
        "        print(\"Il vous reste la modique somme de\",argent)\n",
        "        print(\"=\"*30)\n",
        "        break\n",
        "      elif choix==x:\n",
        "        argent= argent+mise*35\n",
        "        print(\"Jackpot!!! Bon numéro\")\n",
        "        print(\"Il vous reste la modique somme de\",argent)\n",
        "        print(\"=\"*30)\n",
        "        break\n",
        "      else:\n",
        "        print(\"Pas de gain, rien ne va plus pour votre portefeuille, why are you gay ?\")\n",
        "        argent= argent-mise\n",
        "        while True:\n",
        "          if argent==0:\n",
        "            print(\"You are gay AND broke, end of the game\")\n",
        "            sys.exit()\n",
        "          else:\n",
        "            print(\"Il vous reste la modique somme de\",argent)\n",
        "            print(\"=\"*30)\n",
        "            break\n",
        "\n",
        "\n",
        "\n"
      ],
      "metadata": {
        "colab": {
          "base_uri": "https://localhost:8080/"
        },
        "id": "4FfKfRrD6qSg",
        "outputId": "3160913f-13cb-4360-da5e-51387193fc46"
      },
      "execution_count": null,
      "outputs": [
        {
          "output_type": "stream",
          "name": "stdout",
          "text": [
            "Vous commencez avec 100 euros que vous avez pris dans les économies de votre belle famillle prévues pour payer les études de vos enfants.\n",
            "Heureusement, ils sont stupides, donc ces fonds ne sont plus nécéssaires. En route vers le casino de pontaillac !\n",
            "=====\n",
            "======\n",
            "=======\n",
            "========\n",
            "=========\n",
            "La croupière vous adresse un grand sourire et vous invite à vous installer tandis que le barman shake votre pina colada\n",
            "                             =\n",
            "                           ===\n",
            "                         =====\n",
            "                       =======\n",
            "                     =========\n",
            "                   ===========\n",
            "                 =============\n",
            "               ===============\n",
            "             =================\n",
            "           ===================\n",
            "         =====================\n",
            "       =======================\n",
            "     =========================\n",
            "   ===========================\n",
            " =============================\n",
            "Combien voulez vous jouer ?10\n",
            "Que voulez vous jouer ? Si rouge tapez 100, si noir 1000, sinon, tapez le chiffre que vous voulez jouer100\n",
            "20\n",
            "Pas de gain, rien ne va plus pour votre portefeuille, why are you gay ?\n",
            "Il vous reste la modique somme de 90\n",
            "==============================\n",
            "Que voulez vous jouer ? Si rouge tapez 100, si noir 1000, sinon, tapez le chiffre que vous voulez jouer1000\n",
            "20\n",
            "Vous doublez votre mise !\n",
            "Il vous reste la modique somme de 100\n",
            "==============================\n",
            "Combien voulez vous jouer ?1000\n",
            "Vous ne pouvez pas jouer plus que ce que vous avez. Jouer comporte des risques.\n",
            "Combien voulez vous jouer ?5\n",
            "Que voulez vous jouer ? Si rouge tapez 100, si noir 1000, sinon, tapez le chiffre que vous voulez jouer1000\n",
            "6\n",
            "Vous doublez votre mise !\n",
            "Il vous reste la modique somme de 105\n",
            "==============================\n",
            "Combien voulez vous jouer ?10\n",
            "Que voulez vous jouer ? Si rouge tapez 100, si noir 1000, sinon, tapez le chiffre que vous voulez jouer100\n",
            "8\n",
            "Pas de gain, rien ne va plus pour votre portefeuille, why are you gay ?\n",
            "Il vous reste la modique somme de 95\n",
            "==============================\n",
            "Que voulez vous jouer ? Si rouge tapez 100, si noir 1000, sinon, tapez le chiffre que vous voulez jouer1000\n",
            "8\n",
            "Vous doublez votre mise !\n",
            "Il vous reste la modique somme de 105\n",
            "==============================\n"
          ]
        }
      ]
    },
    {
      "cell_type": "code",
      "source": [],
      "metadata": {
        "id": "FyM-fO8T_3pY"
      },
      "execution_count": null,
      "outputs": []
    }
  ]
}